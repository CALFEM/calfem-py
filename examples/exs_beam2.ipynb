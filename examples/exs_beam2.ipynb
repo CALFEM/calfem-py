{
 "cells": [
  {
   "cell_type": "markdown",
   "metadata": {},
   "source": [
    "# Analysis of a plane frame"
   ]
  },
  {
   "cell_type": "markdown",
   "metadata": {},
   "source": [
    "Import modules"
   ]
  },
  {
   "cell_type": "code",
   "execution_count": 1,
   "metadata": {},
   "outputs": [],
   "source": [
    "import sys\n",
    "import numpy as np\n",
    "sys.path.insert(0, r'D:\\Users\\Jonas\\Development\\calfem-python')\n",
    "import calfem.core as cfc\n",
    "import calfem.utils as cfu\n",
    "import calfem.vis_mpl as cfv\n",
    "import tabulate as tab\n"
   ]
  },
  {
   "cell_type": "markdown",
   "metadata": {},
   "source": [
    "Define topology"
   ]
  },
  {
   "cell_type": "code",
   "execution_count": 2,
   "metadata": {},
   "outputs": [],
   "source": [
    "edof = np.array([\n",
    "    [4, 5, 6, 1, 2, 3], \n",
    "    [7, 8, 9, 10, 11, 12], \n",
    "    [4, 5, 6, 7, 8, 9]\n",
    "])"
   ]
  },
  {
   "cell_type": "markdown",
   "metadata": {},
   "source": [
    "Setup stiffness matrix K and load vector f"
   ]
  },
  {
   "cell_type": "code",
   "execution_count": 3,
   "metadata": {},
   "outputs": [],
   "source": [
    "K = np.array(np.zeros((12, 12)))\n",
    "f = np.array(np.zeros((12, 1)))\n",
    "f[3] = 2.0e3"
   ]
  },
  {
   "cell_type": "markdown",
   "metadata": {},
   "source": [
    "Setup element stiffness and element load matrices"
   ]
  },
  {
   "cell_type": "code",
   "execution_count": 4,
   "metadata": {},
   "outputs": [],
   "source": [
    "E = 200.0e9\n",
    "A1 = 2.0e-3\n",
    "A2 = 6.0e-3\n",
    "I1 = 1.6e-5\n",
    "I2 = 5.4e-5\n",
    "\n",
    "ep1 = np.array([E, A1, I1])\n",
    "ep3 = np.array([E, A2, I2])\n",
    "ex1 = np.array([0, 0])\n",
    "ex2 = np.array([6, 6])\n",
    "ex3 = np.array([0, 6])\n",
    "ey1 = np.array([4, 0])\n",
    "ey2 = np.array([4, 0])\n",
    "ey3 = np.array([4, 4])\n",
    "eq1 = np.array([0, 0])\n",
    "eq2 = np.array([0, 0])\n",
    "eq3 = np.array([0, -10e3])\n",
    "\n",
    "Ke1 = cfc.beam2e(ex1, ey1, ep1)\n",
    "Ke2 = cfc.beam2e(ex2, ey2, ep1)\n",
    "Ke3, fe3 = cfc.beam2e(ex3, ey3, ep3, eq3)"
   ]
  },
  {
   "cell_type": "markdown",
   "metadata": {},
   "source": [
    "Assemble Ke into K"
   ]
  },
  {
   "cell_type": "code",
   "execution_count": 5,
   "metadata": {},
   "outputs": [],
   "source": [
    "K = cfc.assem(edof[0, :], K, Ke1)\n",
    "K = cfc.assem(edof[1, :], K, Ke2)\n",
    "K, f = cfc.assem(edof[2, :], K, Ke3, f, fe3)"
   ]
  },
  {
   "cell_type": "markdown",
   "metadata": {},
   "source": [
    "Solve the system of equations and compute reactions"
   ]
  },
  {
   "cell_type": "code",
   "execution_count": 6,
   "metadata": {},
   "outputs": [
    {
     "data": {
      "text/html": [
       "<table>\n",
       "<thead>\n",
       "<tr><th style=\"text-align: right;\">  </th><th style=\"text-align: right;\">      a (m)</th></tr>\n",
       "</thead>\n",
       "<tbody>\n",
       "<tr><td style=\"text-align: right;\"> 0</td><td style=\"text-align: right;\"> 0.0000e+00</td></tr>\n",
       "<tr><td style=\"text-align: right;\"> 1</td><td style=\"text-align: right;\"> 0.0000e+00</td></tr>\n",
       "<tr><td style=\"text-align: right;\"> 2</td><td style=\"text-align: right;\"> 0.0000e+00</td></tr>\n",
       "<tr><td style=\"text-align: right;\"> 3</td><td style=\"text-align: right;\"> 7.5357e-03</td></tr>\n",
       "<tr><td style=\"text-align: right;\"> 4</td><td style=\"text-align: right;\">-2.8741e-04</td></tr>\n",
       "<tr><td style=\"text-align: right;\"> 5</td><td style=\"text-align: right;\">-5.3735e-03</td></tr>\n",
       "<tr><td style=\"text-align: right;\"> 6</td><td style=\"text-align: right;\"> 7.5161e-03</td></tr>\n",
       "<tr><td style=\"text-align: right;\"> 7</td><td style=\"text-align: right;\">-3.1259e-04</td></tr>\n",
       "<tr><td style=\"text-align: right;\"> 8</td><td style=\"text-align: right;\"> 4.6656e-03</td></tr>\n",
       "<tr><td style=\"text-align: right;\"> 9</td><td style=\"text-align: right;\"> 0.0000e+00</td></tr>\n",
       "<tr><td style=\"text-align: right;\">10</td><td style=\"text-align: right;\"> 0.0000e+00</td></tr>\n",
       "<tr><td style=\"text-align: right;\">11</td><td style=\"text-align: right;\">-5.1513e-03</td></tr>\n",
       "</tbody>\n",
       "</table>"
      ],
      "text/plain": [
       "'<table>\\n<thead>\\n<tr><th style=\"text-align: right;\">  </th><th style=\"text-align: right;\">      a (m)</th></tr>\\n</thead>\\n<tbody>\\n<tr><td style=\"text-align: right;\"> 0</td><td style=\"text-align: right;\"> 0.0000e+00</td></tr>\\n<tr><td style=\"text-align: right;\"> 1</td><td style=\"text-align: right;\"> 0.0000e+00</td></tr>\\n<tr><td style=\"text-align: right;\"> 2</td><td style=\"text-align: right;\"> 0.0000e+00</td></tr>\\n<tr><td style=\"text-align: right;\"> 3</td><td style=\"text-align: right;\"> 7.5357e-03</td></tr>\\n<tr><td style=\"text-align: right;\"> 4</td><td style=\"text-align: right;\">-2.8741e-04</td></tr>\\n<tr><td style=\"text-align: right;\"> 5</td><td style=\"text-align: right;\">-5.3735e-03</td></tr>\\n<tr><td style=\"text-align: right;\"> 6</td><td style=\"text-align: right;\"> 7.5161e-03</td></tr>\\n<tr><td style=\"text-align: right;\"> 7</td><td style=\"text-align: right;\">-3.1259e-04</td></tr>\\n<tr><td style=\"text-align: right;\"> 8</td><td style=\"text-align: right;\"> 4.6656e-03</td></tr>\\n<tr><td style=\"text-align: right;\"> 9</td><td style=\"text-align: right;\"> 0.0000e+00</td></tr>\\n<tr><td style=\"text-align: right;\">10</td><td style=\"text-align: right;\"> 0.0000e+00</td></tr>\\n<tr><td style=\"text-align: right;\">11</td><td style=\"text-align: right;\">-5.1513e-03</td></tr>\\n</tbody>\\n</table>'"
      ]
     },
     "metadata": {},
     "output_type": "display_data"
    },
    {
     "data": {
      "text/html": [
       "<table>\n",
       "<thead>\n",
       "<tr><th style=\"text-align: right;\">  </th><th style=\"text-align: right;\">      r (N)</th></tr>\n",
       "</thead>\n",
       "<tbody>\n",
       "<tr><td style=\"text-align: right;\"> 0</td><td style=\"text-align: right;\"> 1.9268e+03</td></tr>\n",
       "<tr><td style=\"text-align: right;\"> 1</td><td style=\"text-align: right;\"> 2.8741e+04</td></tr>\n",
       "<tr><td style=\"text-align: right;\"> 2</td><td style=\"text-align: right;\"> 4.4527e+02</td></tr>\n",
       "<tr><td style=\"text-align: right;\"> 3</td><td style=\"text-align: right;\"> 0.0000e+00</td></tr>\n",
       "<tr><td style=\"text-align: right;\"> 4</td><td style=\"text-align: right;\"> 0.0000e+00</td></tr>\n",
       "<tr><td style=\"text-align: right;\"> 5</td><td style=\"text-align: right;\"> 0.0000e+00</td></tr>\n",
       "<tr><td style=\"text-align: right;\"> 6</td><td style=\"text-align: right;\">-2.3283e-10</td></tr>\n",
       "<tr><td style=\"text-align: right;\"> 7</td><td style=\"text-align: right;\"> 3.6380e-12</td></tr>\n",
       "<tr><td style=\"text-align: right;\"> 8</td><td style=\"text-align: right;\"> 3.6380e-12</td></tr>\n",
       "<tr><td style=\"text-align: right;\"> 9</td><td style=\"text-align: right;\">-3.9268e+03</td></tr>\n",
       "<tr><td style=\"text-align: right;\">10</td><td style=\"text-align: right;\"> 3.1259e+04</td></tr>\n",
       "<tr><td style=\"text-align: right;\">11</td><td style=\"text-align: right;\"> 0.0000e+00</td></tr>\n",
       "</tbody>\n",
       "</table>"
      ],
      "text/plain": [
       "'<table>\\n<thead>\\n<tr><th style=\"text-align: right;\">  </th><th style=\"text-align: right;\">      r (N)</th></tr>\\n</thead>\\n<tbody>\\n<tr><td style=\"text-align: right;\"> 0</td><td style=\"text-align: right;\"> 1.9268e+03</td></tr>\\n<tr><td style=\"text-align: right;\"> 1</td><td style=\"text-align: right;\"> 2.8741e+04</td></tr>\\n<tr><td style=\"text-align: right;\"> 2</td><td style=\"text-align: right;\"> 4.4527e+02</td></tr>\\n<tr><td style=\"text-align: right;\"> 3</td><td style=\"text-align: right;\"> 0.0000e+00</td></tr>\\n<tr><td style=\"text-align: right;\"> 4</td><td style=\"text-align: right;\"> 0.0000e+00</td></tr>\\n<tr><td style=\"text-align: right;\"> 5</td><td style=\"text-align: right;\"> 0.0000e+00</td></tr>\\n<tr><td style=\"text-align: right;\"> 6</td><td style=\"text-align: right;\">-2.3283e-10</td></tr>\\n<tr><td style=\"text-align: right;\"> 7</td><td style=\"text-align: right;\"> 3.6380e-12</td></tr>\\n<tr><td style=\"text-align: right;\"> 8</td><td style=\"text-align: right;\"> 3.6380e-12</td></tr>\\n<tr><td style=\"text-align: right;\"> 9</td><td style=\"text-align: right;\">-3.9268e+03</td></tr>\\n<tr><td style=\"text-align: right;\">10</td><td style=\"text-align: right;\"> 3.1259e+04</td></tr>\\n<tr><td style=\"text-align: right;\">11</td><td style=\"text-align: right;\"> 0.0000e+00</td></tr>\\n</tbody>\\n</table>'"
      ]
     },
     "metadata": {},
     "output_type": "display_data"
    }
   ],
   "source": [
    "bc = np.array([1, 2, 3, 10, 11])\n",
    "a, r = cfc.solveq(K, f, bc)\n",
    "\n",
    "cfu.disp_array(a, [\"a (m)\"])\n",
    "cfu.disp_array(r, [\"r (N)\"])"
   ]
  },
  {
   "cell_type": "markdown",
   "metadata": {},
   "source": [
    "Section forces"
   ]
  },
  {
   "cell_type": "code",
   "execution_count": 7,
   "metadata": {},
   "outputs": [
    {
     "data": {
      "text/html": [
       "<h2>es1</h2>"
      ],
      "text/plain": [
       "<IPython.core.display.HTML object>"
      ]
     },
     "metadata": {},
     "output_type": "display_data"
    },
    {
     "data": {
      "text/html": [
       "<table>\n",
       "<thead>\n",
       "<tr><th style=\"text-align: right;\">  </th><th style=\"text-align: right;\">          N</th><th style=\"text-align: right;\">        Vy</th><th style=\"text-align: right;\">        Mz</th></tr>\n",
       "</thead>\n",
       "<tbody>\n",
       "<tr><td style=\"text-align: right;\"> 0</td><td style=\"text-align: right;\">-2.8741e+04</td><td style=\"text-align: right;\">1.9268e+03</td><td style=\"text-align: right;\">8.1523e+03</td></tr>\n",
       "<tr><td style=\"text-align: right;\"> 1</td><td style=\"text-align: right;\">-2.8741e+04</td><td style=\"text-align: right;\">1.9268e+03</td><td style=\"text-align: right;\">7.7670e+03</td></tr>\n",
       "<tr><td style=\"text-align: right;\"> 2</td><td style=\"text-align: right;\">-2.8741e+04</td><td style=\"text-align: right;\">1.9268e+03</td><td style=\"text-align: right;\">7.3816e+03</td></tr>\n",
       "<tr><td style=\"text-align: right;\"> 3</td><td style=\"text-align: right;\">-2.8741e+04</td><td style=\"text-align: right;\">1.9268e+03</td><td style=\"text-align: right;\">6.9963e+03</td></tr>\n",
       "<tr><td style=\"text-align: right;\"> 4</td><td style=\"text-align: right;\">-2.8741e+04</td><td style=\"text-align: right;\">1.9268e+03</td><td style=\"text-align: right;\">6.6109e+03</td></tr>\n",
       "<tr><td style=\"text-align: right;\"> 5</td><td style=\"text-align: right;\">-2.8741e+04</td><td style=\"text-align: right;\">1.9268e+03</td><td style=\"text-align: right;\">6.2256e+03</td></tr>\n",
       "<tr><td style=\"text-align: right;\"> 6</td><td style=\"text-align: right;\">-2.8741e+04</td><td style=\"text-align: right;\">1.9268e+03</td><td style=\"text-align: right;\">5.8402e+03</td></tr>\n",
       "<tr><td style=\"text-align: right;\"> 7</td><td style=\"text-align: right;\">-2.8741e+04</td><td style=\"text-align: right;\">1.9268e+03</td><td style=\"text-align: right;\">5.4548e+03</td></tr>\n",
       "<tr><td style=\"text-align: right;\"> 8</td><td style=\"text-align: right;\">-2.8741e+04</td><td style=\"text-align: right;\">1.9268e+03</td><td style=\"text-align: right;\">5.0695e+03</td></tr>\n",
       "<tr><td style=\"text-align: right;\"> 9</td><td style=\"text-align: right;\">-2.8741e+04</td><td style=\"text-align: right;\">1.9268e+03</td><td style=\"text-align: right;\">4.6841e+03</td></tr>\n",
       "<tr><td style=\"text-align: right;\">10</td><td style=\"text-align: right;\">-2.8741e+04</td><td style=\"text-align: right;\">1.9268e+03</td><td style=\"text-align: right;\">4.2988e+03</td></tr>\n",
       "<tr><td style=\"text-align: right;\">11</td><td style=\"text-align: right;\">-2.8741e+04</td><td style=\"text-align: right;\">1.9268e+03</td><td style=\"text-align: right;\">3.9134e+03</td></tr>\n",
       "<tr><td style=\"text-align: right;\">12</td><td style=\"text-align: right;\">-2.8741e+04</td><td style=\"text-align: right;\">1.9268e+03</td><td style=\"text-align: right;\">3.5281e+03</td></tr>\n",
       "<tr><td style=\"text-align: right;\">13</td><td style=\"text-align: right;\">-2.8741e+04</td><td style=\"text-align: right;\">1.9268e+03</td><td style=\"text-align: right;\">3.1427e+03</td></tr>\n",
       "<tr><td style=\"text-align: right;\">14</td><td style=\"text-align: right;\">-2.8741e+04</td><td style=\"text-align: right;\">1.9268e+03</td><td style=\"text-align: right;\">2.7574e+03</td></tr>\n",
       "<tr><td style=\"text-align: right;\">15</td><td style=\"text-align: right;\">-2.8741e+04</td><td style=\"text-align: right;\">1.9268e+03</td><td style=\"text-align: right;\">2.3720e+03</td></tr>\n",
       "<tr><td style=\"text-align: right;\">16</td><td style=\"text-align: right;\">-2.8741e+04</td><td style=\"text-align: right;\">1.9268e+03</td><td style=\"text-align: right;\">1.9867e+03</td></tr>\n",
       "<tr><td style=\"text-align: right;\">17</td><td style=\"text-align: right;\">-2.8741e+04</td><td style=\"text-align: right;\">1.9268e+03</td><td style=\"text-align: right;\">1.6013e+03</td></tr>\n",
       "<tr><td style=\"text-align: right;\">18</td><td style=\"text-align: right;\">-2.8741e+04</td><td style=\"text-align: right;\">1.9268e+03</td><td style=\"text-align: right;\">1.2160e+03</td></tr>\n",
       "<tr><td style=\"text-align: right;\">19</td><td style=\"text-align: right;\">-2.8741e+04</td><td style=\"text-align: right;\">1.9268e+03</td><td style=\"text-align: right;\">8.3062e+02</td></tr>\n",
       "<tr><td style=\"text-align: right;\">20</td><td style=\"text-align: right;\">-2.8741e+04</td><td style=\"text-align: right;\">1.9268e+03</td><td style=\"text-align: right;\">4.4527e+02</td></tr>\n",
       "</tbody>\n",
       "</table>"
      ],
      "text/plain": [
       "'<table>\\n<thead>\\n<tr><th style=\"text-align: right;\">  </th><th style=\"text-align: right;\">          N</th><th style=\"text-align: right;\">        Vy</th><th style=\"text-align: right;\">        Mz</th></tr>\\n</thead>\\n<tbody>\\n<tr><td style=\"text-align: right;\"> 0</td><td style=\"text-align: right;\">-2.8741e+04</td><td style=\"text-align: right;\">1.9268e+03</td><td style=\"text-align: right;\">8.1523e+03</td></tr>\\n<tr><td style=\"text-align: right;\"> 1</td><td style=\"text-align: right;\">-2.8741e+04</td><td style=\"text-align: right;\">1.9268e+03</td><td style=\"text-align: right;\">7.7670e+03</td></tr>\\n<tr><td style=\"text-align: right;\"> 2</td><td style=\"text-align: right;\">-2.8741e+04</td><td style=\"text-align: right;\">1.9268e+03</td><td style=\"text-align: right;\">7.3816e+03</td></tr>\\n<tr><td style=\"text-align: right;\"> 3</td><td style=\"text-align: right;\">-2.8741e+04</td><td style=\"text-align: right;\">1.9268e+03</td><td style=\"text-align: right;\">6.9963e+03</td></tr>\\n<tr><td style=\"text-align: right;\"> 4</td><td style=\"text-align: right;\">-2.8741e+04</td><td style=\"text-align: right;\">1.9268e+03</td><td style=\"text-align: right;\">6.6109e+03</td></tr>\\n<tr><td style=\"text-align: right;\"> 5</td><td style=\"text-align: right;\">-2.8741e+04</td><td style=\"text-align: right;\">1.9268e+03</td><td style=\"text-align: right;\">6.2256e+03</td></tr>\\n<tr><td style=\"text-align: right;\"> 6</td><td style=\"text-align: right;\">-2.8741e+04</td><td style=\"text-align: right;\">1.9268e+03</td><td style=\"text-align: right;\">5.8402e+03</td></tr>\\n<tr><td style=\"text-align: right;\"> 7</td><td style=\"text-align: right;\">-2.8741e+04</td><td style=\"text-align: right;\">1.9268e+03</td><td style=\"text-align: right;\">5.4548e+03</td></tr>\\n<tr><td style=\"text-align: right;\"> 8</td><td style=\"text-align: right;\">-2.8741e+04</td><td style=\"text-align: right;\">1.9268e+03</td><td style=\"text-align: right;\">5.0695e+03</td></tr>\\n<tr><td style=\"text-align: right;\"> 9</td><td style=\"text-align: right;\">-2.8741e+04</td><td style=\"text-align: right;\">1.9268e+03</td><td style=\"text-align: right;\">4.6841e+03</td></tr>\\n<tr><td style=\"text-align: right;\">10</td><td style=\"text-align: right;\">-2.8741e+04</td><td style=\"text-align: right;\">1.9268e+03</td><td style=\"text-align: right;\">4.2988e+03</td></tr>\\n<tr><td style=\"text-align: right;\">11</td><td style=\"text-align: right;\">-2.8741e+04</td><td style=\"text-align: right;\">1.9268e+03</td><td style=\"text-align: right;\">3.9134e+03</td></tr>\\n<tr><td style=\"text-align: right;\">12</td><td style=\"text-align: right;\">-2.8741e+04</td><td style=\"text-align: right;\">1.9268e+03</td><td style=\"text-align: right;\">3.5281e+03</td></tr>\\n<tr><td style=\"text-align: right;\">13</td><td style=\"text-align: right;\">-2.8741e+04</td><td style=\"text-align: right;\">1.9268e+03</td><td style=\"text-align: right;\">3.1427e+03</td></tr>\\n<tr><td style=\"text-align: right;\">14</td><td style=\"text-align: right;\">-2.8741e+04</td><td style=\"text-align: right;\">1.9268e+03</td><td style=\"text-align: right;\">2.7574e+03</td></tr>\\n<tr><td style=\"text-align: right;\">15</td><td style=\"text-align: right;\">-2.8741e+04</td><td style=\"text-align: right;\">1.9268e+03</td><td style=\"text-align: right;\">2.3720e+03</td></tr>\\n<tr><td style=\"text-align: right;\">16</td><td style=\"text-align: right;\">-2.8741e+04</td><td style=\"text-align: right;\">1.9268e+03</td><td style=\"text-align: right;\">1.9867e+03</td></tr>\\n<tr><td style=\"text-align: right;\">17</td><td style=\"text-align: right;\">-2.8741e+04</td><td style=\"text-align: right;\">1.9268e+03</td><td style=\"text-align: right;\">1.6013e+03</td></tr>\\n<tr><td style=\"text-align: right;\">18</td><td style=\"text-align: right;\">-2.8741e+04</td><td style=\"text-align: right;\">1.9268e+03</td><td style=\"text-align: right;\">1.2160e+03</td></tr>\\n<tr><td style=\"text-align: right;\">19</td><td style=\"text-align: right;\">-2.8741e+04</td><td style=\"text-align: right;\">1.9268e+03</td><td style=\"text-align: right;\">8.3062e+02</td></tr>\\n<tr><td style=\"text-align: right;\">20</td><td style=\"text-align: right;\">-2.8741e+04</td><td style=\"text-align: right;\">1.9268e+03</td><td style=\"text-align: right;\">4.4527e+02</td></tr>\\n</tbody>\\n</table>'"
      ]
     },
     "metadata": {},
     "output_type": "display_data"
    },
    {
     "data": {
      "text/html": [
       "<h2>edi1</h2>"
      ],
      "text/plain": [
       "<IPython.core.display.HTML object>"
      ]
     },
     "metadata": {},
     "output_type": "display_data"
    },
    {
     "data": {
      "text/html": [
       "<table>\n",
       "<thead>\n",
       "<tr><th style=\"text-align: right;\">  </th><th style=\"text-align: right;\">        u1</th><th style=\"text-align: right;\">        v1</th></tr>\n",
       "</thead>\n",
       "<tbody>\n",
       "<tr><td style=\"text-align: right;\"> 0</td><td style=\"text-align: right;\">2.8741e-04</td><td style=\"text-align: right;\">7.5357e-03</td></tr>\n",
       "<tr><td style=\"text-align: right;\"> 1</td><td style=\"text-align: right;\">2.7304e-04</td><td style=\"text-align: right;\">6.5112e-03</td></tr>\n",
       "<tr><td style=\"text-align: right;\"> 2</td><td style=\"text-align: right;\">2.5867e-04</td><td style=\"text-align: right;\">5.5837e-03</td></tr>\n",
       "<tr><td style=\"text-align: right;\"> 3</td><td style=\"text-align: right;\">2.4430e-04</td><td style=\"text-align: right;\">4.7485e-03</td></tr>\n",
       "<tr><td style=\"text-align: right;\"> 4</td><td style=\"text-align: right;\">2.2993e-04</td><td style=\"text-align: right;\">4.0008e-03</td></tr>\n",
       "<tr><td style=\"text-align: right;\"> 5</td><td style=\"text-align: right;\">2.1556e-04</td><td style=\"text-align: right;\">3.3357e-03</td></tr>\n",
       "<tr><td style=\"text-align: right;\"> 6</td><td style=\"text-align: right;\">2.0119e-04</td><td style=\"text-align: right;\">2.7484e-03</td></tr>\n",
       "<tr><td style=\"text-align: right;\"> 7</td><td style=\"text-align: right;\">1.8682e-04</td><td style=\"text-align: right;\">2.2341e-03</td></tr>\n",
       "<tr><td style=\"text-align: right;\"> 8</td><td style=\"text-align: right;\">1.7245e-04</td><td style=\"text-align: right;\">1.7880e-03</td></tr>\n",
       "<tr><td style=\"text-align: right;\"> 9</td><td style=\"text-align: right;\">1.5807e-04</td><td style=\"text-align: right;\">1.4053e-03</td></tr>\n",
       "<tr><td style=\"text-align: right;\">10</td><td style=\"text-align: right;\">1.4370e-04</td><td style=\"text-align: right;\">1.0811e-03</td></tr>\n",
       "<tr><td style=\"text-align: right;\">11</td><td style=\"text-align: right;\">1.2933e-04</td><td style=\"text-align: right;\">8.1067e-04</td></tr>\n",
       "<tr><td style=\"text-align: right;\">12</td><td style=\"text-align: right;\">1.1496e-04</td><td style=\"text-align: right;\">5.8915e-04</td></tr>\n",
       "<tr><td style=\"text-align: right;\">13</td><td style=\"text-align: right;\">1.0059e-04</td><td style=\"text-align: right;\">4.1173e-04</td></tr>\n",
       "<tr><td style=\"text-align: right;\">14</td><td style=\"text-align: right;\">8.6223e-05</td><td style=\"text-align: right;\">2.7359e-04</td></tr>\n",
       "<tr><td style=\"text-align: right;\">15</td><td style=\"text-align: right;\">7.1852e-05</td><td style=\"text-align: right;\">1.6993e-04</td></tr>\n",
       "<tr><td style=\"text-align: right;\">16</td><td style=\"text-align: right;\">5.7482e-05</td><td style=\"text-align: right;\">9.5907e-05</td></tr>\n",
       "<tr><td style=\"text-align: right;\">17</td><td style=\"text-align: right;\">4.3111e-05</td><td style=\"text-align: right;\">4.6722e-05</td></tr>\n",
       "<tr><td style=\"text-align: right;\">18</td><td style=\"text-align: right;\">2.8741e-05</td><td style=\"text-align: right;\">1.7554e-05</td></tr>\n",
       "<tr><td style=\"text-align: right;\">19</td><td style=\"text-align: right;\">1.4370e-05</td><td style=\"text-align: right;\">3.5858e-06</td></tr>\n",
       "<tr><td style=\"text-align: right;\">20</td><td style=\"text-align: right;\">0.0000e+00</td><td style=\"text-align: right;\">1.7347e-18</td></tr>\n",
       "</tbody>\n",
       "</table>"
      ],
      "text/plain": [
       "'<table>\\n<thead>\\n<tr><th style=\"text-align: right;\">  </th><th style=\"text-align: right;\">        u1</th><th style=\"text-align: right;\">        v1</th></tr>\\n</thead>\\n<tbody>\\n<tr><td style=\"text-align: right;\"> 0</td><td style=\"text-align: right;\">2.8741e-04</td><td style=\"text-align: right;\">7.5357e-03</td></tr>\\n<tr><td style=\"text-align: right;\"> 1</td><td style=\"text-align: right;\">2.7304e-04</td><td style=\"text-align: right;\">6.5112e-03</td></tr>\\n<tr><td style=\"text-align: right;\"> 2</td><td style=\"text-align: right;\">2.5867e-04</td><td style=\"text-align: right;\">5.5837e-03</td></tr>\\n<tr><td style=\"text-align: right;\"> 3</td><td style=\"text-align: right;\">2.4430e-04</td><td style=\"text-align: right;\">4.7485e-03</td></tr>\\n<tr><td style=\"text-align: right;\"> 4</td><td style=\"text-align: right;\">2.2993e-04</td><td style=\"text-align: right;\">4.0008e-03</td></tr>\\n<tr><td style=\"text-align: right;\"> 5</td><td style=\"text-align: right;\">2.1556e-04</td><td style=\"text-align: right;\">3.3357e-03</td></tr>\\n<tr><td style=\"text-align: right;\"> 6</td><td style=\"text-align: right;\">2.0119e-04</td><td style=\"text-align: right;\">2.7484e-03</td></tr>\\n<tr><td style=\"text-align: right;\"> 7</td><td style=\"text-align: right;\">1.8682e-04</td><td style=\"text-align: right;\">2.2341e-03</td></tr>\\n<tr><td style=\"text-align: right;\"> 8</td><td style=\"text-align: right;\">1.7245e-04</td><td style=\"text-align: right;\">1.7880e-03</td></tr>\\n<tr><td style=\"text-align: right;\"> 9</td><td style=\"text-align: right;\">1.5807e-04</td><td style=\"text-align: right;\">1.4053e-03</td></tr>\\n<tr><td style=\"text-align: right;\">10</td><td style=\"text-align: right;\">1.4370e-04</td><td style=\"text-align: right;\">1.0811e-03</td></tr>\\n<tr><td style=\"text-align: right;\">11</td><td style=\"text-align: right;\">1.2933e-04</td><td style=\"text-align: right;\">8.1067e-04</td></tr>\\n<tr><td style=\"text-align: right;\">12</td><td style=\"text-align: right;\">1.1496e-04</td><td style=\"text-align: right;\">5.8915e-04</td></tr>\\n<tr><td style=\"text-align: right;\">13</td><td style=\"text-align: right;\">1.0059e-04</td><td style=\"text-align: right;\">4.1173e-04</td></tr>\\n<tr><td style=\"text-align: right;\">14</td><td style=\"text-align: right;\">8.6223e-05</td><td style=\"text-align: right;\">2.7359e-04</td></tr>\\n<tr><td style=\"text-align: right;\">15</td><td style=\"text-align: right;\">7.1852e-05</td><td style=\"text-align: right;\">1.6993e-04</td></tr>\\n<tr><td style=\"text-align: right;\">16</td><td style=\"text-align: right;\">5.7482e-05</td><td style=\"text-align: right;\">9.5907e-05</td></tr>\\n<tr><td style=\"text-align: right;\">17</td><td style=\"text-align: right;\">4.3111e-05</td><td style=\"text-align: right;\">4.6722e-05</td></tr>\\n<tr><td style=\"text-align: right;\">18</td><td style=\"text-align: right;\">2.8741e-05</td><td style=\"text-align: right;\">1.7554e-05</td></tr>\\n<tr><td style=\"text-align: right;\">19</td><td style=\"text-align: right;\">1.4370e-05</td><td style=\"text-align: right;\">3.5858e-06</td></tr>\\n<tr><td style=\"text-align: right;\">20</td><td style=\"text-align: right;\">0.0000e+00</td><td style=\"text-align: right;\">1.7347e-18</td></tr>\\n</tbody>\\n</table>'"
      ]
     },
     "metadata": {},
     "output_type": "display_data"
    },
    {
     "data": {
      "text/html": [
       "<h2>es2</h2>"
      ],
      "text/plain": [
       "<IPython.core.display.HTML object>"
      ]
     },
     "metadata": {},
     "output_type": "display_data"
    },
    {
     "data": {
      "text/html": [
       "<table>\n",
       "<thead>\n",
       "<tr><th style=\"text-align: right;\">  </th><th style=\"text-align: right;\">          N</th><th style=\"text-align: right;\">         Vy</th><th style=\"text-align: right;\">         Mz</th></tr>\n",
       "</thead>\n",
       "<tbody>\n",
       "<tr><td style=\"text-align: right;\"> 0</td><td style=\"text-align: right;\">-3.1259e+04</td><td style=\"text-align: right;\">-3.9268e+03</td><td style=\"text-align: right;\">-1.5707e+04</td></tr>\n",
       "<tr><td style=\"text-align: right;\"> 1</td><td style=\"text-align: right;\">-3.1259e+04</td><td style=\"text-align: right;\">-3.9268e+03</td><td style=\"text-align: right;\">-1.4922e+04</td></tr>\n",
       "<tr><td style=\"text-align: right;\"> 2</td><td style=\"text-align: right;\">-3.1259e+04</td><td style=\"text-align: right;\">-3.9268e+03</td><td style=\"text-align: right;\">-1.4136e+04</td></tr>\n",
       "<tr><td style=\"text-align: right;\"> 3</td><td style=\"text-align: right;\">-3.1259e+04</td><td style=\"text-align: right;\">-3.9268e+03</td><td style=\"text-align: right;\">-1.3351e+04</td></tr>\n",
       "<tr><td style=\"text-align: right;\"> 4</td><td style=\"text-align: right;\">-3.1259e+04</td><td style=\"text-align: right;\">-3.9268e+03</td><td style=\"text-align: right;\">-1.2566e+04</td></tr>\n",
       "<tr><td style=\"text-align: right;\"> 5</td><td style=\"text-align: right;\">-3.1259e+04</td><td style=\"text-align: right;\">-3.9268e+03</td><td style=\"text-align: right;\">-1.1780e+04</td></tr>\n",
       "<tr><td style=\"text-align: right;\"> 6</td><td style=\"text-align: right;\">-3.1259e+04</td><td style=\"text-align: right;\">-3.9268e+03</td><td style=\"text-align: right;\">-1.0995e+04</td></tr>\n",
       "<tr><td style=\"text-align: right;\"> 7</td><td style=\"text-align: right;\">-3.1259e+04</td><td style=\"text-align: right;\">-3.9268e+03</td><td style=\"text-align: right;\">-1.0210e+04</td></tr>\n",
       "<tr><td style=\"text-align: right;\"> 8</td><td style=\"text-align: right;\">-3.1259e+04</td><td style=\"text-align: right;\">-3.9268e+03</td><td style=\"text-align: right;\">-9.4242e+03</td></tr>\n",
       "<tr><td style=\"text-align: right;\"> 9</td><td style=\"text-align: right;\">-3.1259e+04</td><td style=\"text-align: right;\">-3.9268e+03</td><td style=\"text-align: right;\">-8.6389e+03</td></tr>\n",
       "<tr><td style=\"text-align: right;\">10</td><td style=\"text-align: right;\">-3.1259e+04</td><td style=\"text-align: right;\">-3.9268e+03</td><td style=\"text-align: right;\">-7.8535e+03</td></tr>\n",
       "<tr><td style=\"text-align: right;\">11</td><td style=\"text-align: right;\">-3.1259e+04</td><td style=\"text-align: right;\">-3.9268e+03</td><td style=\"text-align: right;\">-7.0682e+03</td></tr>\n",
       "<tr><td style=\"text-align: right;\">12</td><td style=\"text-align: right;\">-3.1259e+04</td><td style=\"text-align: right;\">-3.9268e+03</td><td style=\"text-align: right;\">-6.2828e+03</td></tr>\n",
       "<tr><td style=\"text-align: right;\">13</td><td style=\"text-align: right;\">-3.1259e+04</td><td style=\"text-align: right;\">-3.9268e+03</td><td style=\"text-align: right;\">-5.4975e+03</td></tr>\n",
       "<tr><td style=\"text-align: right;\">14</td><td style=\"text-align: right;\">-3.1259e+04</td><td style=\"text-align: right;\">-3.9268e+03</td><td style=\"text-align: right;\">-4.7121e+03</td></tr>\n",
       "<tr><td style=\"text-align: right;\">15</td><td style=\"text-align: right;\">-3.1259e+04</td><td style=\"text-align: right;\">-3.9268e+03</td><td style=\"text-align: right;\">-3.9268e+03</td></tr>\n",
       "<tr><td style=\"text-align: right;\">16</td><td style=\"text-align: right;\">-3.1259e+04</td><td style=\"text-align: right;\">-3.9268e+03</td><td style=\"text-align: right;\">-3.1414e+03</td></tr>\n",
       "<tr><td style=\"text-align: right;\">17</td><td style=\"text-align: right;\">-3.1259e+04</td><td style=\"text-align: right;\">-3.9268e+03</td><td style=\"text-align: right;\">-2.3561e+03</td></tr>\n",
       "<tr><td style=\"text-align: right;\">18</td><td style=\"text-align: right;\">-3.1259e+04</td><td style=\"text-align: right;\">-3.9268e+03</td><td style=\"text-align: right;\">-1.5707e+03</td></tr>\n",
       "<tr><td style=\"text-align: right;\">19</td><td style=\"text-align: right;\">-3.1259e+04</td><td style=\"text-align: right;\">-3.9268e+03</td><td style=\"text-align: right;\">-7.8535e+02</td></tr>\n",
       "<tr><td style=\"text-align: right;\">20</td><td style=\"text-align: right;\">-3.1259e+04</td><td style=\"text-align: right;\">-3.9268e+03</td><td style=\"text-align: right;\"> 5.5511e-12</td></tr>\n",
       "</tbody>\n",
       "</table>"
      ],
      "text/plain": [
       "'<table>\\n<thead>\\n<tr><th style=\"text-align: right;\">  </th><th style=\"text-align: right;\">          N</th><th style=\"text-align: right;\">         Vy</th><th style=\"text-align: right;\">         Mz</th></tr>\\n</thead>\\n<tbody>\\n<tr><td style=\"text-align: right;\"> 0</td><td style=\"text-align: right;\">-3.1259e+04</td><td style=\"text-align: right;\">-3.9268e+03</td><td style=\"text-align: right;\">-1.5707e+04</td></tr>\\n<tr><td style=\"text-align: right;\"> 1</td><td style=\"text-align: right;\">-3.1259e+04</td><td style=\"text-align: right;\">-3.9268e+03</td><td style=\"text-align: right;\">-1.4922e+04</td></tr>\\n<tr><td style=\"text-align: right;\"> 2</td><td style=\"text-align: right;\">-3.1259e+04</td><td style=\"text-align: right;\">-3.9268e+03</td><td style=\"text-align: right;\">-1.4136e+04</td></tr>\\n<tr><td style=\"text-align: right;\"> 3</td><td style=\"text-align: right;\">-3.1259e+04</td><td style=\"text-align: right;\">-3.9268e+03</td><td style=\"text-align: right;\">-1.3351e+04</td></tr>\\n<tr><td style=\"text-align: right;\"> 4</td><td style=\"text-align: right;\">-3.1259e+04</td><td style=\"text-align: right;\">-3.9268e+03</td><td style=\"text-align: right;\">-1.2566e+04</td></tr>\\n<tr><td style=\"text-align: right;\"> 5</td><td style=\"text-align: right;\">-3.1259e+04</td><td style=\"text-align: right;\">-3.9268e+03</td><td style=\"text-align: right;\">-1.1780e+04</td></tr>\\n<tr><td style=\"text-align: right;\"> 6</td><td style=\"text-align: right;\">-3.1259e+04</td><td style=\"text-align: right;\">-3.9268e+03</td><td style=\"text-align: right;\">-1.0995e+04</td></tr>\\n<tr><td style=\"text-align: right;\"> 7</td><td style=\"text-align: right;\">-3.1259e+04</td><td style=\"text-align: right;\">-3.9268e+03</td><td style=\"text-align: right;\">-1.0210e+04</td></tr>\\n<tr><td style=\"text-align: right;\"> 8</td><td style=\"text-align: right;\">-3.1259e+04</td><td style=\"text-align: right;\">-3.9268e+03</td><td style=\"text-align: right;\">-9.4242e+03</td></tr>\\n<tr><td style=\"text-align: right;\"> 9</td><td style=\"text-align: right;\">-3.1259e+04</td><td style=\"text-align: right;\">-3.9268e+03</td><td style=\"text-align: right;\">-8.6389e+03</td></tr>\\n<tr><td style=\"text-align: right;\">10</td><td style=\"text-align: right;\">-3.1259e+04</td><td style=\"text-align: right;\">-3.9268e+03</td><td style=\"text-align: right;\">-7.8535e+03</td></tr>\\n<tr><td style=\"text-align: right;\">11</td><td style=\"text-align: right;\">-3.1259e+04</td><td style=\"text-align: right;\">-3.9268e+03</td><td style=\"text-align: right;\">-7.0682e+03</td></tr>\\n<tr><td style=\"text-align: right;\">12</td><td style=\"text-align: right;\">-3.1259e+04</td><td style=\"text-align: right;\">-3.9268e+03</td><td style=\"text-align: right;\">-6.2828e+03</td></tr>\\n<tr><td style=\"text-align: right;\">13</td><td style=\"text-align: right;\">-3.1259e+04</td><td style=\"text-align: right;\">-3.9268e+03</td><td style=\"text-align: right;\">-5.4975e+03</td></tr>\\n<tr><td style=\"text-align: right;\">14</td><td style=\"text-align: right;\">-3.1259e+04</td><td style=\"text-align: right;\">-3.9268e+03</td><td style=\"text-align: right;\">-4.7121e+03</td></tr>\\n<tr><td style=\"text-align: right;\">15</td><td style=\"text-align: right;\">-3.1259e+04</td><td style=\"text-align: right;\">-3.9268e+03</td><td style=\"text-align: right;\">-3.9268e+03</td></tr>\\n<tr><td style=\"text-align: right;\">16</td><td style=\"text-align: right;\">-3.1259e+04</td><td style=\"text-align: right;\">-3.9268e+03</td><td style=\"text-align: right;\">-3.1414e+03</td></tr>\\n<tr><td style=\"text-align: right;\">17</td><td style=\"text-align: right;\">-3.1259e+04</td><td style=\"text-align: right;\">-3.9268e+03</td><td style=\"text-align: right;\">-2.3561e+03</td></tr>\\n<tr><td style=\"text-align: right;\">18</td><td style=\"text-align: right;\">-3.1259e+04</td><td style=\"text-align: right;\">-3.9268e+03</td><td style=\"text-align: right;\">-1.5707e+03</td></tr>\\n<tr><td style=\"text-align: right;\">19</td><td style=\"text-align: right;\">-3.1259e+04</td><td style=\"text-align: right;\">-3.9268e+03</td><td style=\"text-align: right;\">-7.8535e+02</td></tr>\\n<tr><td style=\"text-align: right;\">20</td><td style=\"text-align: right;\">-3.1259e+04</td><td style=\"text-align: right;\">-3.9268e+03</td><td style=\"text-align: right;\"> 5.5511e-12</td></tr>\\n</tbody>\\n</table>'"
      ]
     },
     "metadata": {},
     "output_type": "display_data"
    },
    {
     "data": {
      "text/html": [
       "<h2>edi2</h2>"
      ],
      "text/plain": [
       "<IPython.core.display.HTML object>"
      ]
     },
     "metadata": {},
     "output_type": "display_data"
    },
    {
     "data": {
      "text/html": [
       "<table>\n",
       "<thead>\n",
       "<tr><th style=\"text-align: right;\">  </th><th style=\"text-align: right;\">        u1</th><th style=\"text-align: right;\">        v1</th></tr>\n",
       "</thead>\n",
       "<tbody>\n",
       "<tr><td style=\"text-align: right;\"> 0</td><td style=\"text-align: right;\">3.1259e-04</td><td style=\"text-align: right;\">7.5161e-03</td></tr>\n",
       "<tr><td style=\"text-align: right;\"> 1</td><td style=\"text-align: right;\">2.9696e-04</td><td style=\"text-align: right;\">8.3527e-03</td></tr>\n",
       "<tr><td style=\"text-align: right;\"> 2</td><td style=\"text-align: right;\">2.8133e-04</td><td style=\"text-align: right;\">9.0027e-03</td></tr>\n",
       "<tr><td style=\"text-align: right;\"> 3</td><td style=\"text-align: right;\">2.6570e-04</td><td style=\"text-align: right;\">9.4761e-03</td></tr>\n",
       "<tr><td style=\"text-align: right;\"> 4</td><td style=\"text-align: right;\">2.5007e-04</td><td style=\"text-align: right;\">9.7825e-03</td></tr>\n",
       "<tr><td style=\"text-align: right;\"> 5</td><td style=\"text-align: right;\">2.3444e-04</td><td style=\"text-align: right;\">9.9319e-03</td></tr>\n",
       "<tr><td style=\"text-align: right;\"> 6</td><td style=\"text-align: right;\">2.1881e-04</td><td style=\"text-align: right;\">9.9341e-03</td></tr>\n",
       "<tr><td style=\"text-align: right;\"> 7</td><td style=\"text-align: right;\">2.0318e-04</td><td style=\"text-align: right;\">9.7988e-03</td></tr>\n",
       "<tr><td style=\"text-align: right;\"> 8</td><td style=\"text-align: right;\">1.8755e-04</td><td style=\"text-align: right;\">9.5359e-03</td></tr>\n",
       "<tr><td style=\"text-align: right;\"> 9</td><td style=\"text-align: right;\">1.7193e-04</td><td style=\"text-align: right;\">9.1552e-03</td></tr>\n",
       "<tr><td style=\"text-align: right;\">10</td><td style=\"text-align: right;\">1.5630e-04</td><td style=\"text-align: right;\">8.6665e-03</td></tr>\n",
       "<tr><td style=\"text-align: right;\">11</td><td style=\"text-align: right;\">1.4067e-04</td><td style=\"text-align: right;\">8.0796e-03</td></tr>\n",
       "<tr><td style=\"text-align: right;\">12</td><td style=\"text-align: right;\">1.2504e-04</td><td style=\"text-align: right;\">7.4044e-03</td></tr>\n",
       "<tr><td style=\"text-align: right;\">13</td><td style=\"text-align: right;\">1.0941e-04</td><td style=\"text-align: right;\">6.6506e-03</td></tr>\n",
       "<tr><td style=\"text-align: right;\">14</td><td style=\"text-align: right;\">9.3777e-05</td><td style=\"text-align: right;\">5.8282e-03</td></tr>\n",
       "<tr><td style=\"text-align: right;\">15</td><td style=\"text-align: right;\">7.8148e-05</td><td style=\"text-align: right;\">4.9468e-03</td></tr>\n",
       "<tr><td style=\"text-align: right;\">16</td><td style=\"text-align: right;\">6.2518e-05</td><td style=\"text-align: right;\">4.0163e-03</td></tr>\n",
       "<tr><td style=\"text-align: right;\">17</td><td style=\"text-align: right;\">4.6889e-05</td><td style=\"text-align: right;\">3.0466e-03</td></tr>\n",
       "<tr><td style=\"text-align: right;\">18</td><td style=\"text-align: right;\">3.1259e-05</td><td style=\"text-align: right;\">2.0474e-03</td></tr>\n",
       "<tr><td style=\"text-align: right;\">19</td><td style=\"text-align: right;\">1.5630e-05</td><td style=\"text-align: right;\">1.0286e-03</td></tr>\n",
       "<tr><td style=\"text-align: right;\">20</td><td style=\"text-align: right;\">0.0000e+00</td><td style=\"text-align: right;\">3.4694e-18</td></tr>\n",
       "</tbody>\n",
       "</table>"
      ],
      "text/plain": [
       "'<table>\\n<thead>\\n<tr><th style=\"text-align: right;\">  </th><th style=\"text-align: right;\">        u1</th><th style=\"text-align: right;\">        v1</th></tr>\\n</thead>\\n<tbody>\\n<tr><td style=\"text-align: right;\"> 0</td><td style=\"text-align: right;\">3.1259e-04</td><td style=\"text-align: right;\">7.5161e-03</td></tr>\\n<tr><td style=\"text-align: right;\"> 1</td><td style=\"text-align: right;\">2.9696e-04</td><td style=\"text-align: right;\">8.3527e-03</td></tr>\\n<tr><td style=\"text-align: right;\"> 2</td><td style=\"text-align: right;\">2.8133e-04</td><td style=\"text-align: right;\">9.0027e-03</td></tr>\\n<tr><td style=\"text-align: right;\"> 3</td><td style=\"text-align: right;\">2.6570e-04</td><td style=\"text-align: right;\">9.4761e-03</td></tr>\\n<tr><td style=\"text-align: right;\"> 4</td><td style=\"text-align: right;\">2.5007e-04</td><td style=\"text-align: right;\">9.7825e-03</td></tr>\\n<tr><td style=\"text-align: right;\"> 5</td><td style=\"text-align: right;\">2.3444e-04</td><td style=\"text-align: right;\">9.9319e-03</td></tr>\\n<tr><td style=\"text-align: right;\"> 6</td><td style=\"text-align: right;\">2.1881e-04</td><td style=\"text-align: right;\">9.9341e-03</td></tr>\\n<tr><td style=\"text-align: right;\"> 7</td><td style=\"text-align: right;\">2.0318e-04</td><td style=\"text-align: right;\">9.7988e-03</td></tr>\\n<tr><td style=\"text-align: right;\"> 8</td><td style=\"text-align: right;\">1.8755e-04</td><td style=\"text-align: right;\">9.5359e-03</td></tr>\\n<tr><td style=\"text-align: right;\"> 9</td><td style=\"text-align: right;\">1.7193e-04</td><td style=\"text-align: right;\">9.1552e-03</td></tr>\\n<tr><td style=\"text-align: right;\">10</td><td style=\"text-align: right;\">1.5630e-04</td><td style=\"text-align: right;\">8.6665e-03</td></tr>\\n<tr><td style=\"text-align: right;\">11</td><td style=\"text-align: right;\">1.4067e-04</td><td style=\"text-align: right;\">8.0796e-03</td></tr>\\n<tr><td style=\"text-align: right;\">12</td><td style=\"text-align: right;\">1.2504e-04</td><td style=\"text-align: right;\">7.4044e-03</td></tr>\\n<tr><td style=\"text-align: right;\">13</td><td style=\"text-align: right;\">1.0941e-04</td><td style=\"text-align: right;\">6.6506e-03</td></tr>\\n<tr><td style=\"text-align: right;\">14</td><td style=\"text-align: right;\">9.3777e-05</td><td style=\"text-align: right;\">5.8282e-03</td></tr>\\n<tr><td style=\"text-align: right;\">15</td><td style=\"text-align: right;\">7.8148e-05</td><td style=\"text-align: right;\">4.9468e-03</td></tr>\\n<tr><td style=\"text-align: right;\">16</td><td style=\"text-align: right;\">6.2518e-05</td><td style=\"text-align: right;\">4.0163e-03</td></tr>\\n<tr><td style=\"text-align: right;\">17</td><td style=\"text-align: right;\">4.6889e-05</td><td style=\"text-align: right;\">3.0466e-03</td></tr>\\n<tr><td style=\"text-align: right;\">18</td><td style=\"text-align: right;\">3.1259e-05</td><td style=\"text-align: right;\">2.0474e-03</td></tr>\\n<tr><td style=\"text-align: right;\">19</td><td style=\"text-align: right;\">1.5630e-05</td><td style=\"text-align: right;\">1.0286e-03</td></tr>\\n<tr><td style=\"text-align: right;\">20</td><td style=\"text-align: right;\">0.0000e+00</td><td style=\"text-align: right;\">3.4694e-18</td></tr>\\n</tbody>\\n</table>'"
      ]
     },
     "metadata": {},
     "output_type": "display_data"
    },
    {
     "data": {
      "text/html": [
       "<h2>es3</h2>"
      ],
      "text/plain": [
       "<IPython.core.display.HTML object>"
      ]
     },
     "metadata": {},
     "output_type": "display_data"
    },
    {
     "data": {
      "text/html": [
       "<table>\n",
       "<thead>\n",
       "<tr><th style=\"text-align: right;\">  </th><th style=\"text-align: right;\">          N</th><th style=\"text-align: right;\">         Vy</th><th style=\"text-align: right;\">         Mz</th></tr>\n",
       "</thead>\n",
       "<tbody>\n",
       "<tr><td style=\"text-align: right;\"> 0</td><td style=\"text-align: right;\">-3.9268e+03</td><td style=\"text-align: right;\">-2.8741e+04</td><td style=\"text-align: right;\">-8.1523e+03</td></tr>\n",
       "<tr><td style=\"text-align: right;\"> 1</td><td style=\"text-align: right;\">-3.9268e+03</td><td style=\"text-align: right;\">-2.5741e+04</td><td style=\"text-align: right;\"> 1.9953e+01</td></tr>\n",
       "<tr><td style=\"text-align: right;\"> 2</td><td style=\"text-align: right;\">-3.9268e+03</td><td style=\"text-align: right;\">-2.2741e+04</td><td style=\"text-align: right;\"> 7.2922e+03</td></tr>\n",
       "<tr><td style=\"text-align: right;\"> 3</td><td style=\"text-align: right;\">-3.9268e+03</td><td style=\"text-align: right;\">-1.9741e+04</td><td style=\"text-align: right;\"> 1.3664e+04</td></tr>\n",
       "<tr><td style=\"text-align: right;\"> 4</td><td style=\"text-align: right;\">-3.9268e+03</td><td style=\"text-align: right;\">-1.6741e+04</td><td style=\"text-align: right;\"> 1.9137e+04</td></tr>\n",
       "<tr><td style=\"text-align: right;\"> 5</td><td style=\"text-align: right;\">-3.9268e+03</td><td style=\"text-align: right;\">-1.3741e+04</td><td style=\"text-align: right;\"> 2.3709e+04</td></tr>\n",
       "<tr><td style=\"text-align: right;\"> 6</td><td style=\"text-align: right;\">-3.9268e+03</td><td style=\"text-align: right;\">-1.0741e+04</td><td style=\"text-align: right;\"> 2.7381e+04</td></tr>\n",
       "<tr><td style=\"text-align: right;\"> 7</td><td style=\"text-align: right;\">-3.9268e+03</td><td style=\"text-align: right;\">-7.7409e+03</td><td style=\"text-align: right;\"> 3.0154e+04</td></tr>\n",
       "<tr><td style=\"text-align: right;\"> 8</td><td style=\"text-align: right;\">-3.9268e+03</td><td style=\"text-align: right;\">-4.7409e+03</td><td style=\"text-align: right;\"> 3.2026e+04</td></tr>\n",
       "<tr><td style=\"text-align: right;\"> 9</td><td style=\"text-align: right;\">-3.9268e+03</td><td style=\"text-align: right;\">-1.7409e+03</td><td style=\"text-align: right;\"> 3.2998e+04</td></tr>\n",
       "<tr><td style=\"text-align: right;\">10</td><td style=\"text-align: right;\">-3.9268e+03</td><td style=\"text-align: right;\"> 1.2591e+03</td><td style=\"text-align: right;\"> 3.3070e+04</td></tr>\n",
       "<tr><td style=\"text-align: right;\">11</td><td style=\"text-align: right;\">-3.9268e+03</td><td style=\"text-align: right;\"> 4.2591e+03</td><td style=\"text-align: right;\"> 3.2243e+04</td></tr>\n",
       "<tr><td style=\"text-align: right;\">12</td><td style=\"text-align: right;\">-3.9268e+03</td><td style=\"text-align: right;\"> 7.2591e+03</td><td style=\"text-align: right;\"> 3.0515e+04</td></tr>\n",
       "<tr><td style=\"text-align: right;\">13</td><td style=\"text-align: right;\">-3.9268e+03</td><td style=\"text-align: right;\"> 1.0259e+04</td><td style=\"text-align: right;\"> 2.7887e+04</td></tr>\n",
       "<tr><td style=\"text-align: right;\">14</td><td style=\"text-align: right;\">-3.9268e+03</td><td style=\"text-align: right;\"> 1.3259e+04</td><td style=\"text-align: right;\"> 2.4359e+04</td></tr>\n",
       "<tr><td style=\"text-align: right;\">15</td><td style=\"text-align: right;\">-3.9268e+03</td><td style=\"text-align: right;\"> 1.6259e+04</td><td style=\"text-align: right;\"> 1.9932e+04</td></tr>\n",
       "<tr><td style=\"text-align: right;\">16</td><td style=\"text-align: right;\">-3.9268e+03</td><td style=\"text-align: right;\"> 1.9259e+04</td><td style=\"text-align: right;\"> 1.4604e+04</td></tr>\n",
       "<tr><td style=\"text-align: right;\">17</td><td style=\"text-align: right;\">-3.9268e+03</td><td style=\"text-align: right;\"> 2.2259e+04</td><td style=\"text-align: right;\"> 8.3762e+03</td></tr>\n",
       "<tr><td style=\"text-align: right;\">18</td><td style=\"text-align: right;\">-3.9268e+03</td><td style=\"text-align: right;\"> 2.5259e+04</td><td style=\"text-align: right;\"> 1.2484e+03</td></tr>\n",
       "<tr><td style=\"text-align: right;\">19</td><td style=\"text-align: right;\">-3.9268e+03</td><td style=\"text-align: right;\"> 2.8259e+04</td><td style=\"text-align: right;\">-6.7793e+03</td></tr>\n",
       "<tr><td style=\"text-align: right;\">20</td><td style=\"text-align: right;\">-3.9268e+03</td><td style=\"text-align: right;\"> 3.1259e+04</td><td style=\"text-align: right;\">-1.5707e+04</td></tr>\n",
       "</tbody>\n",
       "</table>"
      ],
      "text/plain": [
       "'<table>\\n<thead>\\n<tr><th style=\"text-align: right;\">  </th><th style=\"text-align: right;\">          N</th><th style=\"text-align: right;\">         Vy</th><th style=\"text-align: right;\">         Mz</th></tr>\\n</thead>\\n<tbody>\\n<tr><td style=\"text-align: right;\"> 0</td><td style=\"text-align: right;\">-3.9268e+03</td><td style=\"text-align: right;\">-2.8741e+04</td><td style=\"text-align: right;\">-8.1523e+03</td></tr>\\n<tr><td style=\"text-align: right;\"> 1</td><td style=\"text-align: right;\">-3.9268e+03</td><td style=\"text-align: right;\">-2.5741e+04</td><td style=\"text-align: right;\"> 1.9953e+01</td></tr>\\n<tr><td style=\"text-align: right;\"> 2</td><td style=\"text-align: right;\">-3.9268e+03</td><td style=\"text-align: right;\">-2.2741e+04</td><td style=\"text-align: right;\"> 7.2922e+03</td></tr>\\n<tr><td style=\"text-align: right;\"> 3</td><td style=\"text-align: right;\">-3.9268e+03</td><td style=\"text-align: right;\">-1.9741e+04</td><td style=\"text-align: right;\"> 1.3664e+04</td></tr>\\n<tr><td style=\"text-align: right;\"> 4</td><td style=\"text-align: right;\">-3.9268e+03</td><td style=\"text-align: right;\">-1.6741e+04</td><td style=\"text-align: right;\"> 1.9137e+04</td></tr>\\n<tr><td style=\"text-align: right;\"> 5</td><td style=\"text-align: right;\">-3.9268e+03</td><td style=\"text-align: right;\">-1.3741e+04</td><td style=\"text-align: right;\"> 2.3709e+04</td></tr>\\n<tr><td style=\"text-align: right;\"> 6</td><td style=\"text-align: right;\">-3.9268e+03</td><td style=\"text-align: right;\">-1.0741e+04</td><td style=\"text-align: right;\"> 2.7381e+04</td></tr>\\n<tr><td style=\"text-align: right;\"> 7</td><td style=\"text-align: right;\">-3.9268e+03</td><td style=\"text-align: right;\">-7.7409e+03</td><td style=\"text-align: right;\"> 3.0154e+04</td></tr>\\n<tr><td style=\"text-align: right;\"> 8</td><td style=\"text-align: right;\">-3.9268e+03</td><td style=\"text-align: right;\">-4.7409e+03</td><td style=\"text-align: right;\"> 3.2026e+04</td></tr>\\n<tr><td style=\"text-align: right;\"> 9</td><td style=\"text-align: right;\">-3.9268e+03</td><td style=\"text-align: right;\">-1.7409e+03</td><td style=\"text-align: right;\"> 3.2998e+04</td></tr>\\n<tr><td style=\"text-align: right;\">10</td><td style=\"text-align: right;\">-3.9268e+03</td><td style=\"text-align: right;\"> 1.2591e+03</td><td style=\"text-align: right;\"> 3.3070e+04</td></tr>\\n<tr><td style=\"text-align: right;\">11</td><td style=\"text-align: right;\">-3.9268e+03</td><td style=\"text-align: right;\"> 4.2591e+03</td><td style=\"text-align: right;\"> 3.2243e+04</td></tr>\\n<tr><td style=\"text-align: right;\">12</td><td style=\"text-align: right;\">-3.9268e+03</td><td style=\"text-align: right;\"> 7.2591e+03</td><td style=\"text-align: right;\"> 3.0515e+04</td></tr>\\n<tr><td style=\"text-align: right;\">13</td><td style=\"text-align: right;\">-3.9268e+03</td><td style=\"text-align: right;\"> 1.0259e+04</td><td style=\"text-align: right;\"> 2.7887e+04</td></tr>\\n<tr><td style=\"text-align: right;\">14</td><td style=\"text-align: right;\">-3.9268e+03</td><td style=\"text-align: right;\"> 1.3259e+04</td><td style=\"text-align: right;\"> 2.4359e+04</td></tr>\\n<tr><td style=\"text-align: right;\">15</td><td style=\"text-align: right;\">-3.9268e+03</td><td style=\"text-align: right;\"> 1.6259e+04</td><td style=\"text-align: right;\"> 1.9932e+04</td></tr>\\n<tr><td style=\"text-align: right;\">16</td><td style=\"text-align: right;\">-3.9268e+03</td><td style=\"text-align: right;\"> 1.9259e+04</td><td style=\"text-align: right;\"> 1.4604e+04</td></tr>\\n<tr><td style=\"text-align: right;\">17</td><td style=\"text-align: right;\">-3.9268e+03</td><td style=\"text-align: right;\"> 2.2259e+04</td><td style=\"text-align: right;\"> 8.3762e+03</td></tr>\\n<tr><td style=\"text-align: right;\">18</td><td style=\"text-align: right;\">-3.9268e+03</td><td style=\"text-align: right;\"> 2.5259e+04</td><td style=\"text-align: right;\"> 1.2484e+03</td></tr>\\n<tr><td style=\"text-align: right;\">19</td><td style=\"text-align: right;\">-3.9268e+03</td><td style=\"text-align: right;\"> 2.8259e+04</td><td style=\"text-align: right;\">-6.7793e+03</td></tr>\\n<tr><td style=\"text-align: right;\">20</td><td style=\"text-align: right;\">-3.9268e+03</td><td style=\"text-align: right;\"> 3.1259e+04</td><td style=\"text-align: right;\">-1.5707e+04</td></tr>\\n</tbody>\\n</table>'"
      ]
     },
     "metadata": {},
     "output_type": "display_data"
    },
    {
     "data": {
      "text/html": [
       "<h2>edi3</h2>"
      ],
      "text/plain": [
       "<IPython.core.display.HTML object>"
      ]
     },
     "metadata": {},
     "output_type": "display_data"
    },
    {
     "data": {
      "text/html": [
       "<table>\n",
       "<thead>\n",
       "<tr><th style=\"text-align: right;\">  </th><th style=\"text-align: right;\">        u1</th><th style=\"text-align: right;\">         v1</th></tr>\n",
       "</thead>\n",
       "<tbody>\n",
       "<tr><td style=\"text-align: right;\"> 0</td><td style=\"text-align: right;\">7.5357e-03</td><td style=\"text-align: right;\">-2.8741e-04</td></tr>\n",
       "<tr><td style=\"text-align: right;\"> 1</td><td style=\"text-align: right;\">7.5347e-03</td><td style=\"text-align: right;\">-1.9218e-03</td></tr>\n",
       "<tr><td style=\"text-align: right;\"> 2</td><td style=\"text-align: right;\">7.5337e-03</td><td style=\"text-align: right;\">-3.5566e-03</td></tr>\n",
       "<tr><td style=\"text-align: right;\"> 3</td><td style=\"text-align: right;\">7.5328e-03</td><td style=\"text-align: right;\">-5.1312e-03</td></tr>\n",
       "<tr><td style=\"text-align: right;\"> 4</td><td style=\"text-align: right;\">7.5318e-03</td><td style=\"text-align: right;\">-6.5927e-03</td></tr>\n",
       "<tr><td style=\"text-align: right;\"> 5</td><td style=\"text-align: right;\">7.5308e-03</td><td style=\"text-align: right;\">-7.8952e-03</td></tr>\n",
       "<tr><td style=\"text-align: right;\"> 6</td><td style=\"text-align: right;\">7.5298e-03</td><td style=\"text-align: right;\">-9.0009e-03</td></tr>\n",
       "<tr><td style=\"text-align: right;\"> 7</td><td style=\"text-align: right;\">7.5288e-03</td><td style=\"text-align: right;\">-9.8789e-03</td></tr>\n",
       "<tr><td style=\"text-align: right;\"> 8</td><td style=\"text-align: right;\">7.5279e-03</td><td style=\"text-align: right;\">-1.0506e-02</td></tr>\n",
       "<tr><td style=\"text-align: right;\"> 9</td><td style=\"text-align: right;\">7.5269e-03</td><td style=\"text-align: right;\">-1.0868e-02</td></tr>\n",
       "<tr><td style=\"text-align: right;\">10</td><td style=\"text-align: right;\">7.5259e-03</td><td style=\"text-align: right;\">-1.0954e-02</td></tr>\n",
       "<tr><td style=\"text-align: right;\">11</td><td style=\"text-align: right;\">7.5249e-03</td><td style=\"text-align: right;\">-1.0766e-02</td></tr>\n",
       "<tr><td style=\"text-align: right;\">12</td><td style=\"text-align: right;\">7.5239e-03</td><td style=\"text-align: right;\">-1.0310e-02</td></tr>\n",
       "<tr><td style=\"text-align: right;\">13</td><td style=\"text-align: right;\">7.5229e-03</td><td style=\"text-align: right;\">-9.6000e-03</td></tr>\n",
       "<tr><td style=\"text-align: right;\">14</td><td style=\"text-align: right;\">7.5220e-03</td><td style=\"text-align: right;\">-8.6584e-03</td></tr>\n",
       "<tr><td style=\"text-align: right;\">15</td><td style=\"text-align: right;\">7.5210e-03</td><td style=\"text-align: right;\">-7.5143e-03</td></tr>\n",
       "<tr><td style=\"text-align: right;\">16</td><td style=\"text-align: right;\">7.5200e-03</td><td style=\"text-align: right;\">-6.2048e-03</td></tr>\n",
       "<tr><td style=\"text-align: right;\">17</td><td style=\"text-align: right;\">7.5190e-03</td><td style=\"text-align: right;\">-4.7743e-03</td></tr>\n",
       "<tr><td style=\"text-align: right;\">18</td><td style=\"text-align: right;\">7.5180e-03</td><td style=\"text-align: right;\">-3.2745e-03</td></tr>\n",
       "<tr><td style=\"text-align: right;\">19</td><td style=\"text-align: right;\">7.5171e-03</td><td style=\"text-align: right;\">-1.7650e-03</td></tr>\n",
       "<tr><td style=\"text-align: right;\">20</td><td style=\"text-align: right;\">7.5161e-03</td><td style=\"text-align: right;\">-3.1259e-04</td></tr>\n",
       "</tbody>\n",
       "</table>"
      ],
      "text/plain": [
       "'<table>\\n<thead>\\n<tr><th style=\"text-align: right;\">  </th><th style=\"text-align: right;\">        u1</th><th style=\"text-align: right;\">         v1</th></tr>\\n</thead>\\n<tbody>\\n<tr><td style=\"text-align: right;\"> 0</td><td style=\"text-align: right;\">7.5357e-03</td><td style=\"text-align: right;\">-2.8741e-04</td></tr>\\n<tr><td style=\"text-align: right;\"> 1</td><td style=\"text-align: right;\">7.5347e-03</td><td style=\"text-align: right;\">-1.9218e-03</td></tr>\\n<tr><td style=\"text-align: right;\"> 2</td><td style=\"text-align: right;\">7.5337e-03</td><td style=\"text-align: right;\">-3.5566e-03</td></tr>\\n<tr><td style=\"text-align: right;\"> 3</td><td style=\"text-align: right;\">7.5328e-03</td><td style=\"text-align: right;\">-5.1312e-03</td></tr>\\n<tr><td style=\"text-align: right;\"> 4</td><td style=\"text-align: right;\">7.5318e-03</td><td style=\"text-align: right;\">-6.5927e-03</td></tr>\\n<tr><td style=\"text-align: right;\"> 5</td><td style=\"text-align: right;\">7.5308e-03</td><td style=\"text-align: right;\">-7.8952e-03</td></tr>\\n<tr><td style=\"text-align: right;\"> 6</td><td style=\"text-align: right;\">7.5298e-03</td><td style=\"text-align: right;\">-9.0009e-03</td></tr>\\n<tr><td style=\"text-align: right;\"> 7</td><td style=\"text-align: right;\">7.5288e-03</td><td style=\"text-align: right;\">-9.8789e-03</td></tr>\\n<tr><td style=\"text-align: right;\"> 8</td><td style=\"text-align: right;\">7.5279e-03</td><td style=\"text-align: right;\">-1.0506e-02</td></tr>\\n<tr><td style=\"text-align: right;\"> 9</td><td style=\"text-align: right;\">7.5269e-03</td><td style=\"text-align: right;\">-1.0868e-02</td></tr>\\n<tr><td style=\"text-align: right;\">10</td><td style=\"text-align: right;\">7.5259e-03</td><td style=\"text-align: right;\">-1.0954e-02</td></tr>\\n<tr><td style=\"text-align: right;\">11</td><td style=\"text-align: right;\">7.5249e-03</td><td style=\"text-align: right;\">-1.0766e-02</td></tr>\\n<tr><td style=\"text-align: right;\">12</td><td style=\"text-align: right;\">7.5239e-03</td><td style=\"text-align: right;\">-1.0310e-02</td></tr>\\n<tr><td style=\"text-align: right;\">13</td><td style=\"text-align: right;\">7.5229e-03</td><td style=\"text-align: right;\">-9.6000e-03</td></tr>\\n<tr><td style=\"text-align: right;\">14</td><td style=\"text-align: right;\">7.5220e-03</td><td style=\"text-align: right;\">-8.6584e-03</td></tr>\\n<tr><td style=\"text-align: right;\">15</td><td style=\"text-align: right;\">7.5210e-03</td><td style=\"text-align: right;\">-7.5143e-03</td></tr>\\n<tr><td style=\"text-align: right;\">16</td><td style=\"text-align: right;\">7.5200e-03</td><td style=\"text-align: right;\">-6.2048e-03</td></tr>\\n<tr><td style=\"text-align: right;\">17</td><td style=\"text-align: right;\">7.5190e-03</td><td style=\"text-align: right;\">-4.7743e-03</td></tr>\\n<tr><td style=\"text-align: right;\">18</td><td style=\"text-align: right;\">7.5180e-03</td><td style=\"text-align: right;\">-3.2745e-03</td></tr>\\n<tr><td style=\"text-align: right;\">19</td><td style=\"text-align: right;\">7.5171e-03</td><td style=\"text-align: right;\">-1.7650e-03</td></tr>\\n<tr><td style=\"text-align: right;\">20</td><td style=\"text-align: right;\">7.5161e-03</td><td style=\"text-align: right;\">-3.1259e-04</td></tr>\\n</tbody>\\n</table>'"
      ]
     },
     "metadata": {},
     "output_type": "display_data"
    }
   ],
   "source": [
    "ed = cfc.extract_ed(edof, a)\n",
    "\n",
    "es1, edi1, ec1 = cfc.beam2s(ex1, ey1, ep1, ed[0, :], eq1, nep=21)\n",
    "es2, edi2, ec2 = cfc.beam2s(ex2, ey2, ep1, ed[1, :], eq2, nep=21)\n",
    "es3, edi3, ec3 = cfc.beam2s(ex3, ey3, ep3, ed[2, :], eq3, nep=21)\n",
    "\n",
    "cfu.disp_h2(\"es1\")\n",
    "cfu.disp_array(es1, [\"N\", \"Vy\", \"Mz\"])\n",
    "cfu.disp_h2(\"edi1\")\n",
    "cfu.disp_array(edi1, [\"u1\", \"v1\"])\n",
    "cfu.disp_h2(\"es2\")\n",
    "cfu.disp_array(es2, [\"N\", \"Vy\", \"Mz\"])\n",
    "cfu.disp_h2(\"edi2\")\n",
    "cfu.disp_array(edi2, [\"u1\", \"v1\"])\n",
    "cfu.disp_h2(\"es3\")\n",
    "cfu.disp_array(es3, [\"N\", \"Vy\", \"Mz\"])\n",
    "cfu.disp_h2(\"edi3\")\n",
    "cfu.disp_array(edi3, [\"u1\", \"v1\"])\n"
   ]
  },
  {
   "cell_type": "markdown",
   "metadata": {},
   "source": [
    "Draw deformed frame"
   ]
  },
  {
   "cell_type": "code",
   "execution_count": 8,
   "metadata": {},
   "outputs": [
    {
     "data": {
      "text/html": [
       "sfac=54.77300198398877"
      ],
      "text/plain": [
       "<IPython.core.display.HTML object>"
      ]
     },
     "metadata": {},
     "output_type": "display_data"
    },
    {
     "data": {
      "image/png": "[encoded data removed]",
      "text/plain": [
       "<Figure size 720x720 with 1 Axes>"
      ]
     },
     "metadata": {
      "needs_background": "light"
     },
     "output_type": "display_data"
    }
   ],
   "source": [
    "plotpar = [2, 1, 0]\n",
    "sfac = cfv.scalfact2(ex3, ey3, edi3, 0.1)\n",
    "cfu.disp(f\"sfac={sfac}\")\n",
    "\n",
    "cfv.figure(1, fig_size=(10, 10))\n",
    "cfv.eldraw2(ex1, ey1, plotpar)\n",
    "cfv.eldraw2(ex2, ey2, plotpar)\n",
    "cfv.eldraw2(ex3, ey3, plotpar)\n",
    "\n",
    "plotpar = [1, 2, 1]\n",
    "cfv.dispbeam2(ex1, ey1, edi1, plotpar, sfac)\n",
    "cfv.dispbeam2(ex2, ey2, edi2, plotpar, sfac)\n",
    "cfv.dispbeam2(ex3, ey3, edi3, plotpar, sfac)\n",
    "cfv.axis([-1.5, 7.5, -0.5, 5.5])\n",
    "plotpar1 = 2\n",
    "cfv.scalgraph2(sfac, [1e-2, 0.5, 0], plotpar1)\n",
    "cfv.title(\"Displacements\")"
   ]
  },
  {
   "cell_type": "markdown",
   "metadata": {},
   "source": [
    "Draw normal force diagram"
   ]
  },
  {
   "cell_type": "code",
   "execution_count": 9,
   "metadata": {},
   "outputs": [
    {
     "data": {
      "image/png": "[encoded data removed]",
      "text/plain": [
       "<Figure size 720x720 with 1 Axes>"
      ]
     },
     "metadata": {
      "needs_background": "light"
     },
     "output_type": "display_data"
    }
   ],
   "source": [
    "plotpar = [2, 1]\n",
    "sfac = cfv.scalfact2(ex3, ey3, es3[:, 1], 0.2)\n",
    "cfv.figure(3, fig_size=(10, 10))\n",
    "cfv.secforce2(ex1, ey1, es1[:, 1], plotpar, sfac)\n",
    "cfv.secforce2(ex2, ey2, es2[:, 1], plotpar, sfac)\n",
    "cfv.secforce2(ex3, ey3, es3[:, 1], plotpar, sfac)\n",
    "cfv.axis([-1.5, 7.5, -0.5, 5.5])\n",
    "cfv.scalgraph2(sfac, [3e4, 0.5, 0], plotpar1)\n",
    "cfv.title(\"Shear force\")"
   ]
  },
  {
   "cell_type": "markdown",
   "metadata": {},
   "source": [
    "Draw shear force diagram"
   ]
  },
  {
   "cell_type": "code",
   "execution_count": 10,
   "metadata": {},
   "outputs": [
    {
     "data": {
      "text/html": [
       "sfac=3.628630851048567e-05"
      ],
      "text/plain": [
       "<IPython.core.display.HTML object>"
      ]
     },
     "metadata": {},
     "output_type": "display_data"
    },
    {
     "data": {
      "image/png": "[encoded data removed]",
      "text/plain": [
       "<Figure size 720x720 with 1 Axes>"
      ]
     },
     "metadata": {
      "needs_background": "light"
     },
     "output_type": "display_data"
    }
   ],
   "source": [
    "plotpar = [2, 1]\n",
    "sfac = cfv.scalfact2(ex3, ey3, es3[:, 2], 0.2)\n",
    "cfu.disp(f\"sfac={sfac}\")\n",
    "\n",
    "cfv.figure(4, fig_size=(10, 10))\n",
    "cfv.secforce2(ex1, ey1, es1[:, 2], plotpar, sfac)\n",
    "cfv.secforce2(ex2, ey2, es2[:, 2], plotpar, sfac)\n",
    "cfv.secforce2(ex3, ey3, es3[:, 2], plotpar, sfac)\n",
    "cfv.axis([-1.5, 7.5, -0.5, 5.5])\n",
    "cfv.scalgraph2(sfac, [3e4, 0.5, 0], plotpar1)\n",
    "cfv.title(\"Moment\")"
   ]
  },
  {
   "cell_type": "markdown",
   "metadata": {},
   "source": [
    "Draw moment diagram"
   ]
  },
  {
   "cell_type": "code",
   "execution_count": 11,
   "metadata": {},
   "outputs": [
    {
     "data": {
      "text/html": [
       "sfac=3.628630851048567e-05"
      ],
      "text/plain": [
       "<IPython.core.display.HTML object>"
      ]
     },
     "metadata": {},
     "output_type": "display_data"
    },
    {
     "data": {
      "image/png": "[encoded data removed]",
      "text/plain": [
       "<Figure size 720x720 with 1 Axes>"
      ]
     },
     "metadata": {
      "needs_background": "light"
     },
     "output_type": "display_data"
    }
   ],
   "source": [
    "plotpar = [2, 1]\n",
    "sfac = cfv.scalfact2(ex3, ey3, es3[:, 2], 0.2)\n",
    "cfu.disp(f\"sfac={sfac}\")\n",
    "\n",
    "cfv.figure(4, fig_size=(10, 10))\n",
    "cfv.secforce2(ex1, ey1, es1[:, 2], plotpar, sfac)\n",
    "cfv.secforce2(ex2, ey2, es2[:, 2], plotpar, sfac)\n",
    "cfv.secforce2(ex3, ey3, es3[:, 2], plotpar, sfac)\n",
    "cfv.axis([-1.5, 7.5, -0.5, 5.5])\n",
    "cfv.scalgraph2(sfac, [3e4, 0.5, 0], plotpar1)\n",
    "cfv.title(\"Moment\")"
   ]
  }
 ],
 "metadata": {
  "kernelspec": {
   "display_name": "calfem-dev",
   "language": "python",
   "name": "python3"
  },
  "language_info": {
   "codemirror_mode": {
    "name": "ipython",
    "version": 3
   },
   "file_extension": ".py",
   "mimetype": "text/x-python",
   "name": "python",
   "nbconvert_exporter": "python",
   "pygments_lexer": "ipython3",
   "version": "3.9.12"
  }
 },
 "nbformat": 4,
 "nbformat_minor": 2
}
